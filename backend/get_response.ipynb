{
  "cells": [
    {
      "cell_type": "code",
      "execution_count": 1,
      "metadata": {
        "colab": {
          "base_uri": "https://localhost:8080/"
        },
        "id": "sg8QsJrZ5hz3",
        "outputId": "f75a9f1e-45b8-45b8-aff2-c7aa74b23fc5"
      },
      "outputs": [
        {
          "name": "stderr",
          "output_type": "stream",
          "text": [
            "WARNING: Ignoring invalid distribution ~atplotlib (C:\\Users\\clcle\\AppData\\Local\\Programs\\Python\\Python312\\Lib\\site-packages)\n",
            "WARNING: Skipping lingua as it is not installed.\n"
          ]
        },
        {
          "name": "stdout",
          "output_type": "stream",
          "text": [
            "Found existing installation: lingua-language-detector 2.0.2\n",
            "Uninstalling lingua-language-detector-2.0.2:\n",
            "  Successfully uninstalled lingua-language-detector-2.0.2\n",
            "Collecting lingua-language-detector\n",
            "  Using cached lingua_language_detector-2.0.2-cp312-none-win_amd64.whl.metadata (353 kB)\n",
            "Using cached lingua_language_detector-2.0.2-cp312-none-win_amd64.whl (73.3 MB)\n",
            "Installing collected packages: lingua-language-detector\n",
            "Successfully installed lingua-language-detector-2.0.2\n"
          ]
        },
        {
          "name": "stderr",
          "output_type": "stream",
          "text": [
            "WARNING: Ignoring invalid distribution ~atplotlib (C:\\Users\\clcle\\AppData\\Local\\Programs\\Python\\Python312\\Lib\\site-packages)\n",
            "WARNING: Ignoring invalid distribution ~atplotlib (C:\\Users\\clcle\\AppData\\Local\\Programs\\Python\\Python312\\Lib\\site-packages)\n",
            "WARNING: Ignoring invalid distribution ~atplotlib (C:\\Users\\clcle\\AppData\\Local\\Programs\\Python\\Python312\\Lib\\site-packages)\n"
          ]
        },
        {
          "name": "stdout",
          "output_type": "stream",
          "text": [
            "Name: lingua-language-detector\n",
            "Version: 2.0.2\n",
            "Summary: An accurate natural language detection library, suitable for short text and mixed-language text\n",
            "Home-page: https://github.com/pemistahl/lingua-rs\n",
            "Author: Peter M. Stahl <pemistahl@gmail.com>\n",
            "Author-email: \"Peter M. Stahl\" <pemistahl@gmail.com>\n",
            "License: Apache-2.0\n",
            "Location: C:\\Users\\clcle\\AppData\\Local\\Programs\\Python\\Python312\\Lib\\site-packages\n",
            "Requires: \n",
            "Required-by: \n"
          ]
        },
        {
          "name": "stderr",
          "output_type": "stream",
          "text": [
            "WARNING: Ignoring invalid distribution ~atplotlib (C:\\Users\\clcle\\AppData\\Local\\Programs\\Python\\Python312\\Lib\\site-packages)\n"
          ]
        },
        {
          "name": "stdout",
          "output_type": "stream",
          "text": [
            "Requirement already satisfied: deep_translator in c:\\users\\clcle\\appdata\\local\\programs\\python\\python312\\lib\\site-packages (1.11.4)\n",
            "Requirement already satisfied: beautifulsoup4<5.0.0,>=4.9.1 in c:\\users\\clcle\\appdata\\local\\programs\\python\\python312\\lib\\site-packages (from deep_translator) (4.12.3)\n",
            "Requirement already satisfied: requests<3.0.0,>=2.23.0 in c:\\users\\clcle\\appdata\\local\\programs\\python\\python312\\lib\\site-packages (from deep_translator) (2.32.3)\n",
            "Requirement already satisfied: soupsieve>1.2 in c:\\users\\clcle\\appdata\\local\\programs\\python\\python312\\lib\\site-packages (from beautifulsoup4<5.0.0,>=4.9.1->deep_translator) (2.6)\n",
            "Requirement already satisfied: charset-normalizer<4,>=2 in c:\\users\\clcle\\appdata\\local\\programs\\python\\python312\\lib\\site-packages (from requests<3.0.0,>=2.23.0->deep_translator) (3.4.0)\n",
            "Requirement already satisfied: idna<4,>=2.5 in c:\\users\\clcle\\appdata\\local\\programs\\python\\python312\\lib\\site-packages (from requests<3.0.0,>=2.23.0->deep_translator) (3.10)\n",
            "Requirement already satisfied: urllib3<3,>=1.21.1 in c:\\users\\clcle\\appdata\\local\\programs\\python\\python312\\lib\\site-packages (from requests<3.0.0,>=2.23.0->deep_translator) (2.2.3)\n",
            "Requirement already satisfied: certifi>=2017.4.17 in c:\\users\\clcle\\appdata\\local\\programs\\python\\python312\\lib\\site-packages (from requests<3.0.0,>=2.23.0->deep_translator) (2024.8.30)\n"
          ]
        },
        {
          "name": "stderr",
          "output_type": "stream",
          "text": [
            "WARNING: Ignoring invalid distribution ~atplotlib (C:\\Users\\clcle\\AppData\\Local\\Programs\\Python\\Python312\\Lib\\site-packages)\n",
            "WARNING: Ignoring invalid distribution ~atplotlib (C:\\Users\\clcle\\AppData\\Local\\Programs\\Python\\Python312\\Lib\\site-packages)\n",
            "WARNING: Ignoring invalid distribution ~atplotlib (C:\\Users\\clcle\\AppData\\Local\\Programs\\Python\\Python312\\Lib\\site-packages)\n"
          ]
        },
        {
          "name": "stdout",
          "output_type": "stream",
          "text": [
            "Requirement already satisfied: fastapi in c:\\users\\clcle\\appdata\\local\\programs\\python\\python312\\lib\\site-packages (0.115.6)\n",
            "Requirement already satisfied: uvicorn in c:\\users\\clcle\\appdata\\local\\programs\\python\\python312\\lib\\site-packages (0.32.1)\n",
            "Requirement already satisfied: starlette<0.42.0,>=0.40.0 in c:\\users\\clcle\\appdata\\local\\programs\\python\\python312\\lib\\site-packages (from fastapi) (0.41.3)\n",
            "Requirement already satisfied: pydantic!=1.8,!=1.8.1,!=2.0.0,!=2.0.1,!=2.1.0,<3.0.0,>=1.7.4 in c:\\users\\clcle\\appdata\\local\\programs\\python\\python312\\lib\\site-packages (from fastapi) (2.10.3)\n",
            "Requirement already satisfied: typing-extensions>=4.8.0 in c:\\users\\clcle\\appdata\\local\\programs\\python\\python312\\lib\\site-packages (from fastapi) (4.12.2)\n",
            "Requirement already satisfied: click>=7.0 in c:\\users\\clcle\\appdata\\local\\programs\\python\\python312\\lib\\site-packages (from uvicorn) (8.1.7)\n",
            "Requirement already satisfied: h11>=0.8 in c:\\users\\clcle\\appdata\\local\\programs\\python\\python312\\lib\\site-packages (from uvicorn) (0.14.0)\n",
            "Requirement already satisfied: colorama in c:\\users\\clcle\\appdata\\local\\programs\\python\\python312\\lib\\site-packages (from click>=7.0->uvicorn) (0.4.6)\n",
            "Requirement already satisfied: annotated-types>=0.6.0 in c:\\users\\clcle\\appdata\\local\\programs\\python\\python312\\lib\\site-packages (from pydantic!=1.8,!=1.8.1,!=2.0.0,!=2.0.1,!=2.1.0,<3.0.0,>=1.7.4->fastapi) (0.7.0)\n",
            "Requirement already satisfied: pydantic-core==2.27.1 in c:\\users\\clcle\\appdata\\local\\programs\\python\\python312\\lib\\site-packages (from pydantic!=1.8,!=1.8.1,!=2.0.0,!=2.0.1,!=2.1.0,<3.0.0,>=1.7.4->fastapi) (2.27.1)\n",
            "Requirement already satisfied: anyio<5,>=3.4.0 in c:\\users\\clcle\\appdata\\local\\programs\\python\\python312\\lib\\site-packages (from starlette<0.42.0,>=0.40.0->fastapi) (4.7.0)\n",
            "Requirement already satisfied: idna>=2.8 in c:\\users\\clcle\\appdata\\local\\programs\\python\\python312\\lib\\site-packages (from anyio<5,>=3.4.0->starlette<0.42.0,>=0.40.0->fastapi) (3.10)\n",
            "Requirement already satisfied: sniffio>=1.1 in c:\\users\\clcle\\appdata\\local\\programs\\python\\python312\\lib\\site-packages (from anyio<5,>=3.4.0->starlette<0.42.0,>=0.40.0->fastapi) (1.3.1)\n"
          ]
        },
        {
          "name": "stderr",
          "output_type": "stream",
          "text": [
            "WARNING: Ignoring invalid distribution ~atplotlib (C:\\Users\\clcle\\AppData\\Local\\Programs\\Python\\Python312\\Lib\\site-packages)\n",
            "WARNING: Ignoring invalid distribution ~atplotlib (C:\\Users\\clcle\\AppData\\Local\\Programs\\Python\\Python312\\Lib\\site-packages)\n",
            "WARNING: Ignoring invalid distribution ~atplotlib (C:\\Users\\clcle\\AppData\\Local\\Programs\\Python\\Python312\\Lib\\site-packages)\n"
          ]
        }
      ],
      "source": [
        "!pip uninstall lingua -y\n",
        "!pip uninstall lingua-language-detector -y\n",
        "!pip install lingua-language-detector\n",
        "!pip show lingua-language-detector\n",
        "!pip install deep_translator\n",
        "!pip install fastapi uvicorn"
      ]
    },
    {
      "cell_type": "code",
      "execution_count": 5,
      "metadata": {
        "id": "SIpYkIA_5CZq"
      },
      "outputs": [
        {
          "ename": "RuntimeError",
          "evalue": "asyncio.run() cannot be called from a running event loop",
          "output_type": "error",
          "traceback": [
            "\u001b[1;31m---------------------------------------------------------------------------\u001b[0m",
            "\u001b[1;31mRuntimeError\u001b[0m                              Traceback (most recent call last)",
            "Cell \u001b[1;32mIn[5], line 183\u001b[0m\n\u001b[0;32m    178\u001b[0m     \u001b[38;5;28;01mreturn\u001b[39;00m {\u001b[38;5;124m\"\u001b[39m\u001b[38;5;124manswer\u001b[39m\u001b[38;5;124m\"\u001b[39m: answer}\n\u001b[0;32m    182\u001b[0m \u001b[38;5;28;01mif\u001b[39;00m \u001b[38;5;18m__name__\u001b[39m \u001b[38;5;241m==\u001b[39m \u001b[38;5;124m\"\u001b[39m\u001b[38;5;124m__main__\u001b[39m\u001b[38;5;124m\"\u001b[39m:\n\u001b[1;32m--> 183\u001b[0m     \u001b[43muvicorn\u001b[49m\u001b[38;5;241;43m.\u001b[39;49m\u001b[43mrun\u001b[49m\u001b[43m(\u001b[49m\u001b[43mapp\u001b[49m\u001b[43m,\u001b[49m\u001b[43m \u001b[49m\u001b[43mhost\u001b[49m\u001b[38;5;241;43m=\u001b[39;49m\u001b[38;5;124;43m\"\u001b[39;49m\u001b[38;5;124;43m0.0.0.0\u001b[39;49m\u001b[38;5;124;43m\"\u001b[39;49m\u001b[43m,\u001b[49m\u001b[43m \u001b[49m\u001b[43mport\u001b[49m\u001b[38;5;241;43m=\u001b[39;49m\u001b[38;5;241;43m8000\u001b[39;49m\u001b[43m)\u001b[49m\n",
            "File \u001b[1;32mc:\\Users\\clcle\\AppData\\Local\\Programs\\Python\\Python312\\Lib\\site-packages\\uvicorn\\main.py:579\u001b[0m, in \u001b[0;36mrun\u001b[1;34m(app, host, port, uds, fd, loop, http, ws, ws_max_size, ws_max_queue, ws_ping_interval, ws_ping_timeout, ws_per_message_deflate, lifespan, interface, reload, reload_dirs, reload_includes, reload_excludes, reload_delay, workers, env_file, log_config, log_level, access_log, proxy_headers, server_header, date_header, forwarded_allow_ips, root_path, limit_concurrency, backlog, limit_max_requests, timeout_keep_alive, timeout_graceful_shutdown, ssl_keyfile, ssl_certfile, ssl_keyfile_password, ssl_version, ssl_cert_reqs, ssl_ca_certs, ssl_ciphers, headers, use_colors, app_dir, factory, h11_max_incomplete_event_size)\u001b[0m\n\u001b[0;32m    577\u001b[0m         Multiprocess(config, target\u001b[38;5;241m=\u001b[39mserver\u001b[38;5;241m.\u001b[39mrun, sockets\u001b[38;5;241m=\u001b[39m[sock])\u001b[38;5;241m.\u001b[39mrun()\n\u001b[0;32m    578\u001b[0m     \u001b[38;5;28;01melse\u001b[39;00m:\n\u001b[1;32m--> 579\u001b[0m         \u001b[43mserver\u001b[49m\u001b[38;5;241;43m.\u001b[39;49m\u001b[43mrun\u001b[49m\u001b[43m(\u001b[49m\u001b[43m)\u001b[49m\n\u001b[0;32m    580\u001b[0m \u001b[38;5;28;01mexcept\u001b[39;00m \u001b[38;5;167;01mKeyboardInterrupt\u001b[39;00m:\n\u001b[0;32m    581\u001b[0m     \u001b[38;5;28;01mpass\u001b[39;00m  \u001b[38;5;66;03m# pragma: full coverage\u001b[39;00m\n",
            "File \u001b[1;32mc:\\Users\\clcle\\AppData\\Local\\Programs\\Python\\Python312\\Lib\\site-packages\\uvicorn\\server.py:65\u001b[0m, in \u001b[0;36mServer.run\u001b[1;34m(self, sockets)\u001b[0m\n\u001b[0;32m     63\u001b[0m \u001b[38;5;28;01mdef\u001b[39;00m \u001b[38;5;21mrun\u001b[39m(\u001b[38;5;28mself\u001b[39m, sockets: \u001b[38;5;28mlist\u001b[39m[socket\u001b[38;5;241m.\u001b[39msocket] \u001b[38;5;241m|\u001b[39m \u001b[38;5;28;01mNone\u001b[39;00m \u001b[38;5;241m=\u001b[39m \u001b[38;5;28;01mNone\u001b[39;00m) \u001b[38;5;241m-\u001b[39m\u001b[38;5;241m>\u001b[39m \u001b[38;5;28;01mNone\u001b[39;00m:\n\u001b[0;32m     64\u001b[0m     \u001b[38;5;28mself\u001b[39m\u001b[38;5;241m.\u001b[39mconfig\u001b[38;5;241m.\u001b[39msetup_event_loop()\n\u001b[1;32m---> 65\u001b[0m     \u001b[38;5;28;01mreturn\u001b[39;00m \u001b[43masyncio\u001b[49m\u001b[38;5;241;43m.\u001b[39;49m\u001b[43mrun\u001b[49m\u001b[43m(\u001b[49m\u001b[38;5;28;43mself\u001b[39;49m\u001b[38;5;241;43m.\u001b[39;49m\u001b[43mserve\u001b[49m\u001b[43m(\u001b[49m\u001b[43msockets\u001b[49m\u001b[38;5;241;43m=\u001b[39;49m\u001b[43msockets\u001b[49m\u001b[43m)\u001b[49m\u001b[43m)\u001b[49m\n",
            "File \u001b[1;32mc:\\Users\\clcle\\AppData\\Local\\Programs\\Python\\Python312\\Lib\\asyncio\\runners.py:190\u001b[0m, in \u001b[0;36mrun\u001b[1;34m(main, debug, loop_factory)\u001b[0m\n\u001b[0;32m    161\u001b[0m \u001b[38;5;250m\u001b[39m\u001b[38;5;124;03m\"\"\"Execute the coroutine and return the result.\u001b[39;00m\n\u001b[0;32m    162\u001b[0m \n\u001b[0;32m    163\u001b[0m \u001b[38;5;124;03mThis function runs the passed coroutine, taking care of\u001b[39;00m\n\u001b[1;32m   (...)\u001b[0m\n\u001b[0;32m    186\u001b[0m \u001b[38;5;124;03m    asyncio.run(main())\u001b[39;00m\n\u001b[0;32m    187\u001b[0m \u001b[38;5;124;03m\"\"\"\u001b[39;00m\n\u001b[0;32m    188\u001b[0m \u001b[38;5;28;01mif\u001b[39;00m events\u001b[38;5;241m.\u001b[39m_get_running_loop() \u001b[38;5;129;01mis\u001b[39;00m \u001b[38;5;129;01mnot\u001b[39;00m \u001b[38;5;28;01mNone\u001b[39;00m:\n\u001b[0;32m    189\u001b[0m     \u001b[38;5;66;03m# fail fast with short traceback\u001b[39;00m\n\u001b[1;32m--> 190\u001b[0m     \u001b[38;5;28;01mraise\u001b[39;00m \u001b[38;5;167;01mRuntimeError\u001b[39;00m(\n\u001b[0;32m    191\u001b[0m         \u001b[38;5;124m\"\u001b[39m\u001b[38;5;124masyncio.run() cannot be called from a running event loop\u001b[39m\u001b[38;5;124m\"\u001b[39m)\n\u001b[0;32m    193\u001b[0m \u001b[38;5;28;01mwith\u001b[39;00m Runner(debug\u001b[38;5;241m=\u001b[39mdebug, loop_factory\u001b[38;5;241m=\u001b[39mloop_factory) \u001b[38;5;28;01mas\u001b[39;00m runner:\n\u001b[0;32m    194\u001b[0m     \u001b[38;5;28;01mreturn\u001b[39;00m runner\u001b[38;5;241m.\u001b[39mrun(main)\n",
            "\u001b[1;31mRuntimeError\u001b[0m: asyncio.run() cannot be called from a running event loop"
          ]
        }
      ],
      "source": [
        "import requests\n",
        "import re\n",
        "from lingua import LanguageDetectorBuilder, Language\n",
        "from deep_translator import GoogleTranslator\n",
        "from fastapi import FastAPI\n",
        "from typing import Optional\n",
        "import uvicorn\n",
        "\n",
        "# Azure OpenAI 및 Azure Search 설정\n",
        "AZURE_OPENAI_ENDPOINT = 'https://openai-team3.openai.azure.com/'\n",
        "AZURE_OPENAI_API_KEY = '7u1gKFj9UhcAVQD1lLfCIrlXGVWm894NEljVILS0jG7z95cCwSkHJQQJ99ALACHYHv6XJ3w3AAABACOGKTgQ'\n",
        "DEPLOYMENT_NAME = 'gpt-4o'\n",
        "SEARCH_ENDPOINT = \"https://ai-search-team3.search.windows.net\"\n",
        "SEARCH_API_KEY = \"SVteEFiHV62vyfZ56a6xsfba10kfSLoGseuenSigufAzSeCa4IB1\"\n",
        "SEARCH_INDEX_NAME = \"keyword-index\"\n",
        "SEMANTIC_CONFIGURATION = \"keyword-semantic\"\n",
        "\n",
        "# 언어 감지기 초기화\n",
        "detector = LanguageDetectorBuilder.from_all_languages().build()\n",
        "\n",
        "# FastAPI 호출출\n",
        "app = FastAPI()\n",
        "\n",
        "def detect_language(text):\n",
        "    \"\"\"텍스트의 언어를 감지\"\"\"\n",
        "    detected_language = detector.detect_language_of(text)\n",
        "    if detected_language is not None:\n",
        "        return detected_language.name.lower()  # 언어 이름을 소문자로 반환\n",
        "    else:\n",
        "        return \"unknown\"\n",
        "\n",
        "def translate_to_korean(text):\n",
        "    \"\"\"사용자 입력을 한국어로 번역\"\"\"\n",
        "    try:\n",
        "        return GoogleTranslator(source='auto', target='ko').translate(text)\n",
        "    except Exception as e:\n",
        "        print(f\"Error in translation: {e}\")\n",
        "        return text  # 번역 실패 시 원본 텍스트 반환\n",
        "\n",
        "def clean_response(text):\n",
        "    \"\"\"불필요한 기호 및 문구를 정리하는 함수\"\"\"\n",
        "    cleaned_text = re.sub(r'\\[doc\\d+\\]', '', text)\n",
        "    cleaned_text = re.sub(r'[\\[\\]]', '', cleaned_text)\n",
        "    return cleaned_text.strip()\n",
        "\n",
        "def validate_citations(citations):\n",
        "    \"\"\"\n",
        "    Citations 내용이 비어있거나 너무 짧은 경우 False 반환.\n",
        "    \"\"\"\n",
        "    print(f\"\\nValidating citations... Total citations: {len(citations)}\")\n",
        "    if not citations:\n",
        "        print(\"\\nNo citations found.\")\n",
        "        return False\n",
        "    for i, citation in enumerate(citations):\n",
        "        content = citation.get('content', '')\n",
        "        print(f\"\\nCitation {i + 1}: {content[:50]}...\")  # 첫 50자만 출력\n",
        "        if len(content.strip()) < 1:  # 너무 짧은 내용은 무효 처리\n",
        "            print(\"Invalid citation detected (too short).\")\n",
        "            return False\n",
        "    return True\n",
        "\n",
        "def summarize_with_gpt(citations, user_input, target_language):\n",
        "    \"\"\"Citation 데이터를 요약하여 질문에 답변 생성\"\"\"\n",
        "    print(\"\\nSummarizing citations using GPT...\")\n",
        "    combined_text = \" \".join([citation.get('content', '').strip() for citation in citations])\n",
        "\n",
        "    summarization_prompt = f\"\"\"\n",
        "    Question: {user_input}\n",
        "    Summarize the following information in {target_language} to answer the question:\n",
        "    {combined_text}\n",
        "    \"\"\"\n",
        "\n",
        "    payload = {\"messages\": [{\"role\": \"user\", \"content\": summarization_prompt}], \"temperature\": 0.7, \"max_tokens\": 1000}\n",
        "    headers = {\"Content-Type\": \"application/json\", \"api-key\": AZURE_OPENAI_API_KEY}\n",
        "\n",
        "    response = requests.post(\n",
        "        f\"{AZURE_OPENAI_ENDPOINT}openai/deployments/{DEPLOYMENT_NAME}/chat/completions?api-version=2024-02-15-preview\",\n",
        "        headers=headers, json=payload\n",
        "    )\n",
        "\n",
        "    if response.status_code == 200:\n",
        "        return clean_response(response.json()['choices'][0]['message']['content'].strip())\n",
        "    else:\n",
        "        print(f\"Error during summarization: {response.status_code}\")\n",
        "        return \"An error occurred while summarizing the citations.\"\n",
        "\n",
        "def fallback_to_gpt(question, language):\n",
        "    \"\"\"Search 실패 시 GPT 자체 지식으로 답변 생성\"\"\"\n",
        "    print(\"Executing fallback: Generating response using GPT knowledge.\")\n",
        "    fallback_prompt = f\"\"\"\n",
        "    Question: {question}\n",
        "    Answer (in {language}): If the question is related to Korean law, provide a detailed and accurate response based on general legal knowledge specific to Korean law.\n",
        "\n",
        "    At the end of your legal response, include this message translated into {language}:\n",
        "    'Please refer to trusted legal sources to verify the most up-to-date information.'\n",
        "\n",
        "    If the question is not related to law (e.g., greetings, insults, unrelated content), respond with:\n",
        "    'I can only answer questions related to Korean law. Please ask questions about Korean legal matters.' in {language}\n",
        "    \"\"\"\n",
        "    payload = {\"messages\": [{\"role\": \"user\", \"content\": fallback_prompt}], \"temperature\": 0.7, \"max_tokens\": 1000}\n",
        "\n",
        "    headers = {\"Content-Type\": \"application/json\", \"api-key\": AZURE_OPENAI_API_KEY}\n",
        "    response = requests.post(\n",
        "        f\"{AZURE_OPENAI_ENDPOINT}openai/deployments/{DEPLOYMENT_NAME}/chat/completions?api-version=2024-02-15-preview\",\n",
        "        headers=headers,\n",
        "        json=payload\n",
        "    )\n",
        "    if response.status_code == 200:\n",
        "        return clean_response(response.json()['choices'][0]['message']['content'].strip())\n",
        "    else:\n",
        "        return \"An error occurred while generating the fallback response.\"\n",
        "\n",
        "def ask_legal_question(user_input):\n",
        "    \"\"\"질문에 대한 응답 반환\"\"\"\n",
        "    print(f\"\\nProcessing question: {user_input}\")\n",
        "\n",
        "    # 언어 감지 및 번역\n",
        "    detected_language = detect_language(user_input)\n",
        "    print(f\"\\nDetected language: {detected_language}\")\n",
        "    translated_question = translate_to_korean(user_input)\n",
        "    print(f\"\\nTranslated question for search: {translated_question}\")\n",
        "\n",
        "    headers = {\"Content-Type\": \"application/json\", \"api-key\": AZURE_OPENAI_API_KEY}\n",
        "    prompt = f\"Question: {translated_question}\\nAnswer: Provide an answer using retrieved documents in Korean.\"\n",
        "\n",
        "    payload = {\n",
        "        \"messages\": [\n",
        "            {\"role\": \"system\", \"content\": \"You are a multilingual assistant specializing in Korean law. Answer all questions about Korean law in the language of the question.\"},\n",
        "            {\"role\": \"user\", \"content\": prompt}\n",
        "        ],\n",
        "        \"data_sources\": [\n",
        "            {\"type\": \"azure_search\",\n",
        "             \"parameters\": {\n",
        "                 \"endpoint\": SEARCH_ENDPOINT,\n",
        "                 \"index_name\": SEARCH_INDEX_NAME,\n",
        "                 \"semantic_configuration\": SEMANTIC_CONFIGURATION,\n",
        "                 \"query_type\": \"semantic\",\n",
        "                 \"top_n_documents\": 20,\n",
        "                 \"authentication\": {\"type\": \"api_key\", \"key\": SEARCH_API_KEY}\n",
        "             }}\n",
        "        ],\n",
        "        \"temperature\": 0.7, \"max_tokens\": 800, \"top_p\": 0.95\n",
        "    }\n",
        "\n",
        "    try:\n",
        "        print(\"\\nSending request to Azure OpenAI...\")\n",
        "        response = requests.post(\n",
        "            f\"{AZURE_OPENAI_ENDPOINT}openai/deployments/{DEPLOYMENT_NAME}/chat/completions?api-version=2024-02-15-preview\",\n",
        "            headers=headers, json=payload\n",
        "        )\n",
        "        print(\"response.status_code: \", response.status_code)\n",
        "        if response.status_code != 200:\n",
        "            raise Exception(f\"Azure Search request failed with status code {response.status_code}\")\n",
        "\n",
        "        result = response.json()\n",
        "        raw_content = result['choices'][0]['message']['content'].strip()\n",
        "        print(f\"raw_content: {raw_content}\")\n",
        "        citations = result['choices'][0]['message'].get('context', {}).get('citations', [])\n",
        "\n",
        "        # Citations 내용 검사\n",
        "        if validate_citations(citations):\n",
        "            print(\"Valid citations found.\")\n",
        "            if \"The requested information is not available\" in raw_content or not raw_content:\n",
        "                print(\"Raw content is insufficient. Using citations for the response.\")\n",
        "                return summarize_with_gpt(citations, user_input, detected_language)\n",
        "            return summarize_with_gpt(citations, user_input, detected_language)\n",
        "        else:\n",
        "            print(\"No valid citations found. Triggering fallback...\")\n",
        "            return fallback_to_gpt(user_input, detected_language)\n",
        "\n",
        "    except Exception as e:\n",
        "        print(f\"Error encountered: {e}\")\n",
        "        return fallback_to_gpt(user_input, detected_language)\n",
        "    \n",
        "@app.get(\"/ask\")\n",
        "def ask_endpoint(question: str):\n",
        "    answer=ask_legal_question(question)\n",
        "    return {\"answer\": answer}\n",
        "\n",
        "\n",
        "\n",
        "if __name__ == \"__main__\":\n",
        "    uvicorn.run(app, host=\"0.0.0.0\", port=8000)\n"
      ]
    },
    {
      "cell_type": "markdown",
      "metadata": {
        "id": "_JZ1Zy2CqyWz"
      },
      "source": [
        "Note: ask_legal_question(user_input) Function을 사용 하셔야 하고, {user_input} 을 받아서 {response}을 웹에서 보여주시면 됩니다! (2024.12.19)"
      ]
    }
  ],
  "metadata": {
    "colab": {
      "provenance": []
    },
    "kernelspec": {
      "display_name": "Python 3",
      "language": "python",
      "name": "python3"
    },
    "language_info": {
      "codemirror_mode": {
        "name": "ipython",
        "version": 3
      },
      "file_extension": ".py",
      "mimetype": "text/x-python",
      "name": "python",
      "nbconvert_exporter": "python",
      "pygments_lexer": "ipython3",
      "version": "3.12.5"
    }
  },
  "nbformat": 4,
  "nbformat_minor": 0
}
